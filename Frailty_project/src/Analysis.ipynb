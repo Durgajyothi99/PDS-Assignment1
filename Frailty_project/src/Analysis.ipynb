{
 "cells": [
  {
   "cell_type": "code",
   "execution_count": 25,
   "id": "6fa3437e",
   "metadata": {},
   "outputs": [
    {
     "name": "stdout",
     "output_type": "stream",
     "text": [
      "T-statistic: -1.5303334194571003\n",
      "P-value: 0.1644646461051128\n"
     ]
    }
   ],
   "source": [
    "from scipy.stats import ttest_ind\n",
    "import pandas as pd\n",
    "\n",
    "df = pd.read_csv('../Data_Clean/cleaned_data.csv')\n",
    "\n",
    "# Extract Grip strength for individuals with and without Frailty\n",
    "grip_strength_frailty_yes = df[df['Frailty'] == 1]['Grip strength']\n",
    "grip_strength_frailty_no = df[df['Frailty'] == 0]['Grip strength']\n",
    "\n",
    "# Perform T-test\n",
    "t_statistic, p_value = ttest_ind(grip_strength_frailty_yes, grip_strength_frailty_no)\n",
    "\n",
    "# Save results to a .txt file\n",
    "with open('../results/test_results.txt', 'w') as f:\n",
    "    f.write(\"T-test results:\\n\")\n",
    "    f.write(f\"T-statistic: {t_statistic}\\n\")\n",
    "    f.write(f\"P-value: {p_value}\\n\")\n",
    "    \n",
    "print(\"T-statistic:\", t_statistic)\n",
    "print(\"P-value:\",p_value)\n"
   ]
  },
  {
   "cell_type": "code",
   "execution_count": 26,
   "id": "e38dd5b5",
   "metadata": {},
   "outputs": [
    {
     "name": "stdout",
     "output_type": "stream",
     "text": [
      "Correlation between Grip strength and Frailty: -0.4758668672668007\n",
      "Correlation between Height and Frailty: 0.19318607577310287\n",
      "Correlation between Weight and Frailty: 0.5352001404158715\n",
      "Correlation between Age and Frailty: -0.08365462639775026\n"
     ]
    }
   ],
   "source": [
    "# Ensure 'Grip strength' is numeric\n",
    "df['Grip strength'] = pd.to_numeric(df['Grip strength'], errors='coerce')\n",
    "\n",
    "# Ensure 'Frailty' is numeric\n",
    "df['Frailty'] = pd.to_numeric(df['Frailty'], errors='coerce')\n",
    "\n",
    "# Calculate correlation between Grip strength and Frailty\n",
    "correlation_strength_frailty = df['Grip strength'].corr(df['Frailty'])\n",
    "\n",
    "# Calculate the correlation between Height and Frailty\n",
    "correlation_height_frailty = df['Height'].corr(df['Frailty'])\n",
    "\n",
    "\n",
    "\n",
    "# Calculating correlation between Weight and Frailty_numeric\n",
    "correlation_weight_frailty = df['Weight'].corr(df['Frailty'])\n",
    "\n",
    "# Calculating correlation between Age and Frailty_numeric\n",
    "correlation_age_frailty = df['Age'].corr(df['Frailty'])\n",
    "\n",
    "\n",
    "\n",
    "\n",
    "\n",
    "# Save results to a .txt file\n",
    "with open('../results/test_results.txt', 'a') as f:\n",
    "    f.write(\"Correlation between Grip strength and Frailty:\\n\")\n",
    "    f.write(f\"Correlation coefficient: {correlation_strength_frailty}\\n\")\n",
    "    f.write(\"Correlation between Height and Frailty:\\n\")\n",
    "    f.write(f\"Correlation coefficient: {correlation_height_frailty}\\n\")\n",
    "    f.write(\"Correlation between weight and Frailty:\\n\")\n",
    "    f.write(f\"Correlation coefficient: {correlation_weight_frailty}\\n\")\n",
    "    f.write(\"Correlation between age and Frailty:\\n\")\n",
    "    f.write(f\"Correlation coefficient: {correlation_age_frailty}\\n\")\n",
    "    \n",
    "print(\"Correlation between Grip strength and Frailty:\",correlation_strength_frailty)\n",
    "print(\"Correlation between Height and Frailty:\", correlation_height_frailty)\n",
    "print(\"Correlation between Weight and Frailty:\", correlation_weight_frailty)\n",
    "print(\"Correlation between Age and Frailty:\", correlation_age_frailty)\n"
   ]
  },
  {
   "cell_type": "code",
   "execution_count": 27,
   "id": "eb7090a0",
   "metadata": {},
   "outputs": [
    {
     "name": "stdout",
     "output_type": "stream",
     "text": [
      "Descriptive Statistics:\n",
      "          Height      Weight        Age  Grip strength    Frailty\n",
      "count  10.000000   10.000000  10.000000      10.000000  10.000000\n",
      "mean   68.600000  131.900000  32.500000      26.000000   0.400000\n",
      "std     1.670662   14.231811  12.860361       4.521553   0.516398\n",
      "min    65.800000  112.000000  17.000000      19.000000   0.000000\n",
      "25%    67.825000  120.750000  22.250000      22.500000   0.000000\n",
      "50%    68.450000  136.000000  29.500000      27.000000   0.000000\n",
      "75%    69.700000  141.750000  43.500000      29.750000   1.000000\n",
      "max    71.500000  153.000000  51.000000      31.000000   1.000000\n",
      "\n"
     ]
    }
   ],
   "source": [
    "from scipy.stats import ttest_ind\n",
    "import pandas as pd\n",
    "\n",
    "df = pd.read_csv('../Data_Clean/cleaned_data.csv')\n",
    "\n",
    "#Descriptive Statistics\n",
    "descriptive_stats = df.describe()\n",
    "print(\"Descriptive Statistics:\")\n",
    "print(descriptive_stats)\n",
    "print()"
   ]
  },
  {
   "cell_type": "code",
   "execution_count": null,
   "id": "7e3bfd20",
   "metadata": {},
   "outputs": [],
   "source": []
  }
 ],
 "metadata": {
  "kernelspec": {
   "display_name": "Python 3 (ipykernel)",
   "language": "python",
   "name": "python3"
  },
  "language_info": {
   "codemirror_mode": {
    "name": "ipython",
    "version": 3
   },
   "file_extension": ".py",
   "mimetype": "text/x-python",
   "name": "python",
   "nbconvert_exporter": "python",
   "pygments_lexer": "ipython3",
   "version": "3.11.5"
  }
 },
 "nbformat": 4,
 "nbformat_minor": 5
}
